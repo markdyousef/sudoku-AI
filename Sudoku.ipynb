{
 "cells": [
  {
   "cell_type": "markdown",
   "metadata": {},
   "source": [
    "# Sudoku"
   ]
  },
  {
   "cell_type": "markdown",
   "metadata": {},
   "source": [
    "Our layout should look something like this:\n",
    "`\n",
    "    boxes = \n",
    "        ['A1', 'A2', 'A3', ...]\n",
    "`"
   ]
  },
  {
   "cell_type": "code",
   "execution_count": 1,
   "metadata": {
    "collapsed": true
   },
   "outputs": [],
   "source": [
    "def cross(A, B):\n",
    "    \"Cross product of elements in A and elements in B.\"\n",
    "    return [a+b for a in A for b in B]\n",
    "\n",
    "\n",
    "digits = '123456789'\n",
    "rows = 'ABCDEFGHI'\n",
    "cols = digits\n",
    "boxes = cross(rows, cols)"
   ]
  },
  {
   "cell_type": "markdown",
   "metadata": {},
   "source": [
    "| r | r | r | r | r | r | r | r | r |\n",
    "|---|---|---|---|---|---|---|---|---|\n",
    "| c | s | s |   |   |   |   |   |   |\n",
    "| c | s | s |   |   |   |   |   |   |\n",
    "| c |   |   |   |   |   |   |   |   |\n",
    "| c |   |   |   |   |   |   |   |   |\n",
    "| c |   |   |   |   |   |   |   |   |\n",
    "| c |   |   |   |   |   |   |   |   |\n",
    "| c |   |   |   |   |   |   |   |   |\n",
    "| c |   |   |   |   |   |   |   |   |\n",
    "\n",
    "#### row_units\n",
    "Element example:\n",
    "\n",
    "`row_units[0] = ['A1', 'A2', 'A3', 'A4', ...]`\n",
    "\n",
    "This is the top most row.\n",
    "\n",
    "\n",
    "#### column_units\n",
    "Element example:\n",
    "\n",
    "`column_units[0] = ['A1', 'B1', 'C1', ...]`\n",
    "\n",
    "This is the left most column\n",
    "\n",
    "\n",
    "#### square_units\n",
    "Element example:\n",
    "\n",
    "`square_units[0] = ['A1', 'A2', 'A3', 'B1', ...]`\n",
    "\n",
    "This the top left square\n"
   ]
  },
  {
   "cell_type": "code",
   "execution_count": 2,
   "metadata": {
    "collapsed": true
   },
   "outputs": [],
   "source": [
    "row_units = [cross(r, cols) for r in rows]\n",
    "\n",
    "column_units = [cross(rows, c) for c in cols]\n",
    "\n",
    "square_units = [\n",
    "    cross(rs, cs) for rs in ('ABC', 'DEF', 'GHI')\n",
    "    for cs in ('123', '456', '789')\n",
    "    ]\n",
    "\n",
    "unitlist = row_units + column_units + square_units"
   ]
  },
  {
   "cell_type": "markdown",
   "metadata": {},
   "source": [
    "##### grid_values(grid)\n",
    "A function to convert the string representation of a puzzle into a dictionary form.\n",
    "Where `keys` are the boxes and `values` are all the available values for the box\n",
    "\n",
    "`..3.2.6..9 ...`\n",
    "into\n",
    "`\n",
    "   {\n",
    "     'A1': '12',\n",
    "     'A2': '6789',\n",
    "     'A3': '3'\n",
    "   }\n",
    "\n",
    "`"
   ]
  },
  {
   "cell_type": "code",
   "execution_count": 4,
   "metadata": {
    "collapsed": true
   },
   "outputs": [],
   "source": [
    "def grid_values(grid):\n",
    "    \"Covert grid string into {<box>: <value>} dict with '123456789' value for empties\"\n",
    "    values = []\n",
    "    all_digits = '123456789'\n",
    "    for c in grid:\n",
    "        if c =='.':\n",
    "            values.append(all_digits)\n",
    "        elif c in all_digits:\n",
    "            values.append(c)\n",
    "    assert len(values) == 81\n",
    "    return dict(zip(boxes, values))"
   ]
  },
  {
   "cell_type": "markdown",
   "metadata": {},
   "source": [
    "### Strategy 1: Elimination\n",
    "If a box has a value assigned, then none of the **peers** of this box can have this value"
   ]
  },
  {
   "cell_type": "markdown",
   "metadata": {},
   "source": [
    "| 7 | %7 | %7 | %7 | %7 | %7 | %7 | %7 | %7 |\n",
    "|---|---|---|---|---|---|---|---|---|\n",
    "| %7 |   |   |   |   |   |   |   |   |\n",
    "| %7 |   |   |   |   |   |   |   |   |\n",
    "| %7 |   |   |   |   |   |   |   |   |\n",
    "| %7 |   |   |   |   |   |   |   |   |\n",
    "| %7 |   |   |   |   |   |   |   |   |\n",
    "| %7 |   |   |   |   |   |   |   |   |\n",
    "| %7 |   |   |   |   |   |   |   |   |\n",
    "| %7 |   |   |   |   |   |   |   |   |"
   ]
  },
  {
   "cell_type": "markdown",
   "metadata": {},
   "source": [
    "##### eliminate()\n",
    "takes a puzzle in dictionary form as input. \n",
    "The function iterates over all the boxes in the puzzle that only have one value assigned to them, and it will remove this value from every of its peers."
   ]
  },
  {
   "cell_type": "code",
   "execution_count": 5,
   "metadata": {
    "collapsed": true
   },
   "outputs": [],
   "source": [
    "def eliminate(values):\n",
    "    \"\"\"\n",
    "        Go through all the boxes, and whenever there is a box with a single\n",
    "        value, eliminate this value form the set of values of all its peers\n",
    "    \"\"\"\n",
    "    solved_values = [box for box in values.keys() if len(values[box]) == 1]\n",
    "    for box in solved_values:\n",
    "        digit = values[box]\n",
    "        for peer in peers[box]:\n",
    "            values[peer] = values[peer].replace(digit, '')\n",
    "    return values"
   ]
  },
  {
   "cell_type": "markdown",
   "metadata": {},
   "source": [
    "### Strategy 2: Only Choice\n",
    "If there is only one box in a unit which would allow a certain digit, then that box mus be assigned that digit."
   ]
  },
  {
   "cell_type": "markdown",
   "metadata": {},
   "source": [
    "| 49 | 2 | 147 |\n",
    "|---|---|---|\n",
    "| 3 | 47 | 5 |\n",
    "| 8 | 79 | 6 |\n",
    "\n",
    "| 49 | 2 | 1 |\n",
    "|---|---|---|\n",
    "| 3 | 47 | 5 |\n",
    "| 8 | 79 | 6 |\n"
   ]
  },
  {
   "cell_type": "code",
   "execution_count": 6,
   "metadata": {
    "collapsed": true
   },
   "outputs": [],
   "source": [
    "def only_choice(values):\n",
    "    \"\"\"\n",
    "        Go through all the units, and whenever there is a unit with a\n",
    "        value that only fits in one box, assign the value to this box.\n",
    "    \"\"\"\n",
    "    for unit in unitlist:\n",
    "        for digit in '123456789':\n",
    "            dplaces = [box for box in unit if digit in values[box]]\n",
    "            if len(dplaces) == 1:\n",
    "                values[dplaces[0]] = digit\n",
    "    return values"
   ]
  },
  {
   "cell_type": "markdown",
   "metadata": {},
   "source": [
    "### Applying Contraint Propgagation to Sudoku\n",
    "Constraints:\n",
    "\n",
    "* Elimination\n",
    "* Only Choice\n",
    "\n",
    "##### reduce_puzzle\n",
    "receives the unsolved puzzle as input and applies our two constraints repeatedly in an attempt to solve it."
   ]
  },
  {
   "cell_type": "code",
   "execution_count": 8,
   "metadata": {
    "collapsed": true
   },
   "outputs": [],
   "source": [
    "def reduce_puzzle(values):\n",
    "    stalled = False\n",
    "    while not stalled:\n",
    "        # Check how many boxes have a determined value\n",
    "        solved_values_before = len([box for box in values.keys() if len(values[box]) == 1])\n",
    "        \n",
    "        # Eliminate strategy\n",
    "        values = eliminate(values)\n",
    "        # Only-choice strategy\n",
    "        values = only_choice(values)\n",
    "        \n",
    "        solved_values_after = len([box for box in values.keys() if len(values[box]) == 1])\n",
    "        # if no values where added, stop the loop.\n",
    "        stalled = solved_values_before == solved_values_after\n",
    "        # Sanity check, return False if there is a box with zero available values:\n",
    "        if len([box for box in values.keys() if len(values[box]) == 0]):\n",
    "            return False\n",
    "    return values\n",
    "        "
   ]
  },
  {
   "cell_type": "markdown",
   "metadata": {},
   "source": [
    "## Harder Sudokus\n",
    "The current implementation has problems solving harder sudokus.\n",
    "We'll use a third strategy, Search to solve that."
   ]
  },
  {
   "cell_type": "markdown",
   "metadata": {},
   "source": [
    "### Strategy 3: Search\n",
    "Pick a box with a minimal number of possible values. Try to solve each of the puzzles obtained by choosing each of these values, recursively.\n",
    "\n",
    "Using **Depth First Search**"
   ]
  },
  {
   "cell_type": "code",
   "execution_count": 9,
   "metadata": {
    "collapsed": true
   },
   "outputs": [],
   "source": [
    "def search(values):\n",
    "    \"\"\"Using depth-first search and propagation,\n",
    "        create a search tree and solve the sudoku\n",
    "    \"\"\"\n",
    "    # First, reduce the puzzle using the previous function\n",
    "    values = reduce_puzzle(values)\n",
    "    if values is False:\n",
    "        return False ## Failed earlier\n",
    "    if all(len(values[s]) == 1 for s in boxes):\n",
    "        return values ## Solved!\n",
    "    # Choose one of the unfilled squares with the fewest posibilities\n",
    "    n, s = min((len(values[s]), s) for s in boxes if len(values[s]) > 1)\n",
    "    # Now use recurrence to solve each one of the resulting sudokus\n",
    "    for value in values[s]:\n",
    "        new_sudoku = values.copy()\n",
    "        new_sudoku[s] = value\n",
    "        attempt = search(new_sudoku)\n",
    "        if attempt:\n",
    "            return attempt"
   ]
  },
  {
   "cell_type": "code",
   "execution_count": null,
   "metadata": {
    "collapsed": true
   },
   "outputs": [],
   "source": []
  }
 ],
 "metadata": {
  "kernelspec": {
   "display_name": "Python 3",
   "language": "python",
   "name": "python3"
  },
  "language_info": {
   "codemirror_mode": {
    "name": "ipython",
    "version": 3
   },
   "file_extension": ".py",
   "mimetype": "text/x-python",
   "name": "python",
   "nbconvert_exporter": "python",
   "pygments_lexer": "ipython3",
   "version": "3.6.0"
  }
 },
 "nbformat": 4,
 "nbformat_minor": 2
}
